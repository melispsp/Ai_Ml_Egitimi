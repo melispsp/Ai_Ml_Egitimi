{
  "nbformat": 4,
  "nbformat_minor": 0,
  "metadata": {
    "colab": {
      "provenance": [],
      "gpuType": "T4",
      "authorship_tag": "ABX9TyPlzaswd2/wEmmTBPcPqkh7",
      "include_colab_link": true
    },
    "kernelspec": {
      "name": "python3",
      "display_name": "Python 3"
    },
    "language_info": {
      "name": "python"
    },
    "accelerator": "GPU"
  },
  "cells": [
    {
      "cell_type": "markdown",
      "metadata": {
        "id": "view-in-github",
        "colab_type": "text"
      },
      "source": [
        "<a href=\"https://colab.research.google.com/github/melispsp/Ai_Ml_Egitimi/blob/main/ai_ml_YGK.ipynb\" target=\"_parent\"><img src=\"https://colab.research.google.com/assets/colab-badge.svg\" alt=\"Open In Colab\"/></a>"
      ]
    },
    {
      "cell_type": "code",
      "source": [
        "import os\n",
        "import zipfile\n",
        "import tensorflow as tf\n",
        "from tensorflow import keras\n",
        "from tensorflow.keras import layers\n",
        "import matplotlib.pyplot as plt\n",
        "from tensorflow.keras.utils import load_img, img_to_array"
      ],
      "metadata": {
        "id": "QCxfyiv_m-0t"
      },
      "execution_count": 37,
      "outputs": []
    },
    {
      "cell_type": "code",
      "source": [
        "url = \"https://storage.googleapis.com/mledu-datasets/cats_and_dogs_filtered.zip\"\n",
        "path_to_zip = keras.utils.get_file(\"cats_and_dogs_filtered.zip\", origin=url)"
      ],
      "metadata": {
        "id": "3zO_HJFHnOJe"
      },
      "execution_count": 14,
      "outputs": []
    },
    {
      "cell_type": "code",
      "source": [
        "with zipfile.ZipFile(path_to_zip, 'r') as zip_ref:\n",
        "    zip_ref.extractall(\"/content/\")"
      ],
      "metadata": {
        "id": "MqcxWqwVnRjr"
      },
      "execution_count": 15,
      "outputs": []
    },
    {
      "cell_type": "code",
      "source": [
        "base_dir = \"/content/cats_and_dogs_filtered\"\n",
        "train_dir = os.path.join(base_dir, \"train\")\n",
        "validation_dir = os.path.join(base_dir, \"validation\")"
      ],
      "metadata": {
        "id": "HAducLvanWEu"
      },
      "execution_count": 16,
      "outputs": []
    },
    {
      "cell_type": "code",
      "source": [
        "img_size = (160, 160)\n",
        "batch_size = 32\n",
        "\n",
        "train_dataset = keras.utils.image_dataset_from_directory(\n",
        "    train_dir, shuffle=True, batch_size=batch_size, image_size=img_size)\n",
        "\n",
        "val_dataset = keras.utils.image_dataset_from_directory(\n",
        "    validation_dir, shuffle=True, batch_size=batch_size, image_size=img_size)"
      ],
      "metadata": {
        "colab": {
          "base_uri": "https://localhost:8080/"
        },
        "id": "kx45vPiQnc0u",
        "outputId": "da7a6960-52ad-484a-c33d-5288ce25b470"
      },
      "execution_count": 18,
      "outputs": [
        {
          "output_type": "stream",
          "name": "stdout",
          "text": [
            "Found 2000 files belonging to 2 classes.\n",
            "Found 1000 files belonging to 2 classes.\n"
          ]
        }
      ]
    },
    {
      "cell_type": "code",
      "source": [
        "model = keras.Sequential([\n",
        "    layers.Rescaling(1./255, input_shape=(180, 180, 3)),\n",
        "    layers.Conv2D(16, 3, activation='relu'),\n",
        "    layers.MaxPooling2D(),\n",
        "    layers.Conv2D(32, 3, activation='relu'),\n",
        "    layers.MaxPooling2D(),\n",
        "    layers.Conv2D(64, 3, activation='relu'),\n",
        "    layers.MaxPooling2D(),\n",
        "    layers.Flatten(),\n",
        "    layers.Dense(128, activation='relu'),\n",
        "    layers.Dense(1, activation='sigmoid')\n",
        "])\n",
        "\n",
        "model.compile(optimizer='adam',\n",
        "              loss='binary_crossentropy',\n",
        "              metrics=['accuracy'])\n"
      ],
      "metadata": {
        "id": "2nJjfvGnnr9g"
      },
      "execution_count": 58,
      "outputs": []
    },
    {
      "cell_type": "code",
      "source": [
        "history = model.fit(train_dataset, validation_data=val_dataset, epochs=3)"
      ],
      "metadata": {
        "colab": {
          "base_uri": "https://localhost:8080/"
        },
        "id": "dEOWGkwYn558",
        "outputId": "539b1e87-8ecb-4a79-9923-07b6e3dfa55b"
      },
      "execution_count": 20,
      "outputs": [
        {
          "output_type": "stream",
          "name": "stdout",
          "text": [
            "Epoch 1/3\n",
            "\u001b[1m63/63\u001b[0m \u001b[32m━━━━━━━━━━━━━━━━━━━━\u001b[0m\u001b[37m\u001b[0m \u001b[1m12s\u001b[0m 104ms/step - accuracy: 0.5051 - loss: 0.9219 - val_accuracy: 0.5220 - val_loss: 0.6902\n",
            "Epoch 2/3\n",
            "\u001b[1m63/63\u001b[0m \u001b[32m━━━━━━━━━━━━━━━━━━━━\u001b[0m\u001b[37m\u001b[0m \u001b[1m13s\u001b[0m 47ms/step - accuracy: 0.5631 - loss: 0.6858 - val_accuracy: 0.5840 - val_loss: 0.6524\n",
            "Epoch 3/3\n",
            "\u001b[1m63/63\u001b[0m \u001b[32m━━━━━━━━━━━━━━━━━━━━\u001b[0m\u001b[37m\u001b[0m \u001b[1m9s\u001b[0m 102ms/step - accuracy: 0.6513 - loss: 0.6276 - val_accuracy: 0.6470 - val_loss: 0.6347\n"
          ]
        }
      ]
    },
    {
      "cell_type": "code",
      "source": [
        "def tahmin_et(model, img_path, target_size=(180, 180)):\n",
        "\n",
        "    # görseli yükler ve modele uygun hale getirir\n",
        "    img = load_img(img_path, target_size=target_size)\n",
        "    img_array = img_to_array(img) / 255.0\n",
        "    img_array = tf.expand_dims(img_array, 0)\n",
        "\n",
        "    # tahmin yapar\n",
        "    prediction = model.predict(img_array, verbose=0)[0][0]\n",
        "\n",
        "    # sınıfı belirler ve güven oranını hesaplar\n",
        "    sinif = \"Kedi \" if prediction < 0.5 else \"Köpek \"\n",
        "    olasilik = prediction if prediction > 0.5 else 1 - prediction\n",
        "\n",
        "    # sonucu yazdırır\n",
        "    print(f\"Tahmin: {sinif}\")\n",
        "    print(f\"Güven oranı: %{olasilik*100:.2f}\")\n",
        "\n",
        "    # görseli gösterir\n",
        "    plt.imshow(load_img(img_path))\n",
        "    plt.axis(\"off\")\n",
        "    plt.title(f\"{sinif}  (%{olasilik*100:.1f} güven)\")\n",
        "    plt.show()"
      ],
      "metadata": {
        "id": "TSkCt1BBsfny"
      },
      "execution_count": 43,
      "outputs": []
    },
    {
      "cell_type": "code",
      "source": [
        "for images, labels in val_dataset.take(1):\n",
        "    sample_image = images[5].numpy().astype(\"uint8\")\n",
        "plt.imsave(\"sample.jpg\", sample_image)"
      ],
      "metadata": {
        "id": "Wd7Ez5bIt4rw"
      },
      "execution_count": 56,
      "outputs": []
    },
    {
      "cell_type": "code",
      "source": [
        "tahmin_et(model, \"sample.jpg\")"
      ],
      "metadata": {
        "id": "aoPkgyczvKDZ"
      },
      "execution_count": null,
      "outputs": []
    }
  ]
}